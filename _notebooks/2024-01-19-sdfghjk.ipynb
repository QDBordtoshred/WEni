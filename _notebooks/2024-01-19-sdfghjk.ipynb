{
 "cells": [
  {
   "cell_type": "markdown",
   "metadata": {},
   "source": [
    "---\n",
    "toc: true\n",
    "comments: true\n",
    "layout: post\n",
    "title: College Board Pseudo Code \n",
    "description: The College Board testing language is Pseudo Code.  Pseudo mean kind-of language that we will compare to Python.\n",
    "courses: { csp: {week: 1} }\n",
    "type: hacks\n",
    "---"
   ]
  },
  {
   "cell_type": "markdown",
   "metadata": {},
   "source": [
    "| Name | Commits | Analytics | Reflection |\n",
    "| ------------- | ------------- | ------------- | ------------- |\n",
    "| Quinn Bireley  | [Key Commits](https://github.com/QDBordtoshred/WEni/issues/8) | [Analytics](https://github.com/QDBordtoshred/WEni/issues/9) | [Reflection](https://github.com/QDBordtoshred/WEni/issues/10) |"
   ]
  }
 ],
 "metadata": {
  "language_info": {
   "name": "python"
  }
 },
 "nbformat": 4,
 "nbformat_minor": 2
}
